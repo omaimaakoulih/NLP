{
  "nbformat": 4,
  "nbformat_minor": 0,
  "metadata": {
    "colab": {
      "provenance": []
    },
    "kernelspec": {
      "name": "python3",
      "display_name": "Python 3"
    },
    "language_info": {
      "name": "python"
    }
  },
  "cells": [
    {
      "cell_type": "markdown",
      "source": [
        "##TP2 : Word2Vec"
      ],
      "metadata": {
        "id": "g5AfK_r00E5I"
      }
    },
    {
      "cell_type": "code",
      "execution_count": null,
      "metadata": {
        "colab": {
          "base_uri": "https://localhost:8080/"
        },
        "id": "cppHmY-Bz__q",
        "outputId": "6c44ac0a-797e-4902-f42d-9aa2650e9c43"
      },
      "outputs": [
        {
          "output_type": "stream",
          "name": "stdout",
          "text": [
            "Mounted at /content/drive\n"
          ]
        }
      ],
      "source": [
        "from google.colab import drive\n",
        "drive.mount('/content/drive')"
      ]
    },
    {
      "cell_type": "code",
      "source": [
        "import pandas as pd\n",
        "\n",
        "# Define the path to your text file in Google Drive\n",
        "file_path = '/content/drive/My Drive/Colab Notebooks/text'\n",
        "\n",
        "text = pd.read_csv(file_path,delimiter='\\t')\n",
        "text = text.to_string()\n",
        "text = text.split(']')[0]\n",
        "text = text.split('[')[1]\n",
        "text"
      ],
      "metadata": {
        "colab": {
          "base_uri": "https://localhost:8080/",
          "height": 139
        },
        "id": "pS7NjLCl07h-",
        "outputId": "a5a14f58-013d-4eac-c429-b43943b609bc"
      },
      "execution_count": null,
      "outputs": [
        {
          "output_type": "execute_result",
          "data": {
            "text/plain": [
              "'**Morocco and Marrakech: A Tapestry of Tradition and Modernity** Morocco, located at the crossroads of Europe and Africa, is a country drenched in history, mystery, and cultural richness. A testament to the ancient civilizations that once flourished here, this North African kingdom boasts a unique blend of Arab, Berber, and European influences. At the heart of Morocco\\'s rich tapestry lies Marrakech, one of its four imperial cities and a vibrant epicenter of tradition and modernity. **Geographical Significance** Morocco is bordered by the Atlantic Ocean to the west, the Mediterranean Sea to the north, Algeria to the east and southeast, and the vast Sahara desert to the south. Its strategic location has historically made it a sought-after territory and a melting pot of cultures, religions, and trade routes. **Marrakech: The Red City** Marrakech, often referred to as \"The Red City\" due to its distinctive red-hued buildings, stands against the backdrop of the snow-capped Atlas Mountains. Established in the 11th century, it has remained a crucial political, economic, and cultural center of Morocco. **Journey through the Medina** Marrakech\\'s old town, the Medina, is a UNESCO World Heritage site and a labyrinthine maze of narrow alleys, bustling souks, and historical landmarks. The Djemaa el-Fna Square lies at the heart of the Medina and comes alive every evening with storytellers, musicians, snake charmers, and food stalls offering tantalizing Moroccan delicacies. **Palaces and Gardens** The city is also home to grand palaces like the Bahia Palace, showcasing intricate Islamic architecture, and the Saadian Tombs, remnants of the Saadian dynasty. The Majorelle Garden, restored by the fashion designer Yves Saint Laurent, is a tranquil oasis of cacti, palm trees, and cobalt blue accents. **Modern Marrakech** While tradition and history permeate Marrakech, the city is not averse to the modern world. Gueliz, the new town, is brimming with contemporary art galleries, stylish cafes, and chic boutiques, offering a stark contrast to the ancient Medina. **Moroccan Cuisine** No journey through Morocco and Marrakech would be complete without indulging in the local cuisine. Tagines, couscous, and pastilla are just a few of the many dishes that combine a plethora of flavors and spices like saffron, cumin, and mint. Paired with Moroccan mint tea, the culinary experience is truly unparalleled. **In Conclusion** Morocco, with Marrakech at its heart, offers travelers an unparalleled journey through time. The convergence of history, culture, architecture, and gastronomy makes it an enthralling destination for those seeking both adventure and reflection. As the Moroccan proverb goes, \"He who does not travel does not know the value of men.\" In the case of Morocco and Marrakech, it\\'s not just the value of men, but also the value of time, tradition, and tales that have spanned centuries.'"
            ],
            "application/vnd.google.colaboratory.intrinsic+json": {
              "type": "string"
            }
          },
          "metadata": {},
          "execution_count": 2
        }
      ]
    },
    {
      "cell_type": "markdown",
      "source": [
        "###Remove Ponctuations"
      ],
      "metadata": {
        "id": "Lawrv35D7NUr"
      }
    },
    {
      "cell_type": "code",
      "source": [
        "import string\n",
        "#Lower case the text\n",
        "text_lower = text.lower()\n",
        "\n",
        "#Remove ponctuations\n",
        "PUNCT_TO_REMOVE = string.punctuation\n",
        "def remove_punctuation(text):\n",
        "    \"\"\"function to remove the punctuation\"\"\"\n",
        "    return text.translate(str.maketrans('', '', PUNCT_TO_REMOVE))\n",
        "text_remove_Ponctuation =   remove_punctuation(text_lower)\n",
        "print(text_remove_Ponctuation)\n",
        "\n",
        "#remove stopWords\n",
        "import nltk\n",
        "from nltk.corpus import stopwords\n",
        "nltk.download('stopwords')\n",
        "\n",
        "STOPWORDS = set(stopwords.words('english'))\n",
        "def remove_stopwords(text):\n",
        "    \"\"\"function to remove the stopwords\"\"\"\n",
        "    return \" \".join([word for word in str(text).split() if word not in STOPWORDS])\n",
        "text_without_stopwords = remove_stopwords(text_remove_Ponctuation)\n",
        "print(text_without_stopwords)\n",
        "\n"
      ],
      "metadata": {
        "colab": {
          "base_uri": "https://localhost:8080/"
        },
        "id": "UDe939es7QH8",
        "outputId": "1f87868c-6e43-4483-d773-058eab1cd666"
      },
      "execution_count": null,
      "outputs": [
        {
          "output_type": "stream",
          "name": "stdout",
          "text": [
            "morocco and marrakech a tapestry of tradition and modernity morocco located at the crossroads of europe and africa is a country drenched in history mystery and cultural richness a testament to the ancient civilizations that once flourished here this north african kingdom boasts a unique blend of arab berber and european influences at the heart of moroccos rich tapestry lies marrakech one of its four imperial cities and a vibrant epicenter of tradition and modernity geographical significance morocco is bordered by the atlantic ocean to the west the mediterranean sea to the north algeria to the east and southeast and the vast sahara desert to the south its strategic location has historically made it a soughtafter territory and a melting pot of cultures religions and trade routes marrakech the red city marrakech often referred to as the red city due to its distinctive redhued buildings stands against the backdrop of the snowcapped atlas mountains established in the 11th century it has remained a crucial political economic and cultural center of morocco journey through the medina marrakechs old town the medina is a unesco world heritage site and a labyrinthine maze of narrow alleys bustling souks and historical landmarks the djemaa elfna square lies at the heart of the medina and comes alive every evening with storytellers musicians snake charmers and food stalls offering tantalizing moroccan delicacies palaces and gardens the city is also home to grand palaces like the bahia palace showcasing intricate islamic architecture and the saadian tombs remnants of the saadian dynasty the majorelle garden restored by the fashion designer yves saint laurent is a tranquil oasis of cacti palm trees and cobalt blue accents modern marrakech while tradition and history permeate marrakech the city is not averse to the modern world gueliz the new town is brimming with contemporary art galleries stylish cafes and chic boutiques offering a stark contrast to the ancient medina moroccan cuisine no journey through morocco and marrakech would be complete without indulging in the local cuisine tagines couscous and pastilla are just a few of the many dishes that combine a plethora of flavors and spices like saffron cumin and mint paired with moroccan mint tea the culinary experience is truly unparalleled in conclusion morocco with marrakech at its heart offers travelers an unparalleled journey through time the convergence of history culture architecture and gastronomy makes it an enthralling destination for those seeking both adventure and reflection as the moroccan proverb goes he who does not travel does not know the value of men in the case of morocco and marrakech its not just the value of men but also the value of time tradition and tales that have spanned centuries\n",
            "morocco marrakech tapestry tradition modernity morocco located crossroads europe africa country drenched history mystery cultural richness testament ancient civilizations flourished north african kingdom boasts unique blend arab berber european influences heart moroccos rich tapestry lies marrakech one four imperial cities vibrant epicenter tradition modernity geographical significance morocco bordered atlantic ocean west mediterranean sea north algeria east southeast vast sahara desert south strategic location historically made soughtafter territory melting pot cultures religions trade routes marrakech red city marrakech often referred red city due distinctive redhued buildings stands backdrop snowcapped atlas mountains established 11th century remained crucial political economic cultural center morocco journey medina marrakechs old town medina unesco world heritage site labyrinthine maze narrow alleys bustling souks historical landmarks djemaa elfna square lies heart medina comes alive every evening storytellers musicians snake charmers food stalls offering tantalizing moroccan delicacies palaces gardens city also home grand palaces like bahia palace showcasing intricate islamic architecture saadian tombs remnants saadian dynasty majorelle garden restored fashion designer yves saint laurent tranquil oasis cacti palm trees cobalt blue accents modern marrakech tradition history permeate marrakech city averse modern world gueliz new town brimming contemporary art galleries stylish cafes chic boutiques offering stark contrast ancient medina moroccan cuisine journey morocco marrakech would complete without indulging local cuisine tagines couscous pastilla many dishes combine plethora flavors spices like saffron cumin mint paired moroccan mint tea culinary experience truly unparalleled conclusion morocco marrakech heart offers travelers unparalleled journey time convergence history culture architecture gastronomy makes enthralling destination seeking adventure reflection moroccan proverb goes travel know value men case morocco marrakech value men also value time tradition tales spanned centuries\n"
          ]
        },
        {
          "output_type": "stream",
          "name": "stderr",
          "text": [
            "[nltk_data] Downloading package stopwords to /root/nltk_data...\n",
            "[nltk_data]   Unzipping corpora/stopwords.zip.\n"
          ]
        }
      ]
    },
    {
      "cell_type": "code",
      "source": [
        "pip install gensim"
      ],
      "metadata": {
        "colab": {
          "base_uri": "https://localhost:8080/"
        },
        "id": "0nXhGxbL1hJo",
        "outputId": "bf07a7c7-7f4b-4b7d-a4a8-6331eb71ec7c"
      },
      "execution_count": null,
      "outputs": [
        {
          "output_type": "stream",
          "name": "stdout",
          "text": [
            "Requirement already satisfied: gensim in /usr/local/lib/python3.10/dist-packages (4.3.2)\n",
            "Requirement already satisfied: numpy>=1.18.5 in /usr/local/lib/python3.10/dist-packages (from gensim) (1.23.5)\n",
            "Requirement already satisfied: scipy>=1.7.0 in /usr/local/lib/python3.10/dist-packages (from gensim) (1.11.3)\n",
            "Requirement already satisfied: smart-open>=1.8.1 in /usr/local/lib/python3.10/dist-packages (from gensim) (6.4.0)\n"
          ]
        }
      ]
    },
    {
      "cell_type": "code",
      "source": [
        "#tokenize the text :\n",
        "import nltk\n",
        "nltk.download('punkt')\n",
        "\n",
        "from nltk.tokenize import word_tokenize\n",
        "\n",
        "text_tokenize = word_tokenize(text_without_stopwords)\n",
        "print(text_tokenize)"
      ],
      "metadata": {
        "colab": {
          "base_uri": "https://localhost:8080/"
        },
        "id": "xZVgkkU-5bBH",
        "outputId": "934649ca-52b2-487f-d4eb-b2ad64c6b6bb"
      },
      "execution_count": null,
      "outputs": [
        {
          "output_type": "stream",
          "name": "stderr",
          "text": [
            "[nltk_data] Downloading package punkt to /root/nltk_data...\n",
            "[nltk_data]   Unzipping tokenizers/punkt.zip.\n"
          ]
        },
        {
          "output_type": "stream",
          "name": "stdout",
          "text": [
            "['morocco', 'marrakech', 'tapestry', 'tradition', 'modernity', 'morocco', 'located', 'crossroads', 'europe', 'africa', 'country', 'drenched', 'history', 'mystery', 'cultural', 'richness', 'testament', 'ancient', 'civilizations', 'flourished', 'north', 'african', 'kingdom', 'boasts', 'unique', 'blend', 'arab', 'berber', 'european', 'influences', 'heart', 'moroccos', 'rich', 'tapestry', 'lies', 'marrakech', 'one', 'four', 'imperial', 'cities', 'vibrant', 'epicenter', 'tradition', 'modernity', 'geographical', 'significance', 'morocco', 'bordered', 'atlantic', 'ocean', 'west', 'mediterranean', 'sea', 'north', 'algeria', 'east', 'southeast', 'vast', 'sahara', 'desert', 'south', 'strategic', 'location', 'historically', 'made', 'soughtafter', 'territory', 'melting', 'pot', 'cultures', 'religions', 'trade', 'routes', 'marrakech', 'red', 'city', 'marrakech', 'often', 'referred', 'red', 'city', 'due', 'distinctive', 'redhued', 'buildings', 'stands', 'backdrop', 'snowcapped', 'atlas', 'mountains', 'established', '11th', 'century', 'remained', 'crucial', 'political', 'economic', 'cultural', 'center', 'morocco', 'journey', 'medina', 'marrakechs', 'old', 'town', 'medina', 'unesco', 'world', 'heritage', 'site', 'labyrinthine', 'maze', 'narrow', 'alleys', 'bustling', 'souks', 'historical', 'landmarks', 'djemaa', 'elfna', 'square', 'lies', 'heart', 'medina', 'comes', 'alive', 'every', 'evening', 'storytellers', 'musicians', 'snake', 'charmers', 'food', 'stalls', 'offering', 'tantalizing', 'moroccan', 'delicacies', 'palaces', 'gardens', 'city', 'also', 'home', 'grand', 'palaces', 'like', 'bahia', 'palace', 'showcasing', 'intricate', 'islamic', 'architecture', 'saadian', 'tombs', 'remnants', 'saadian', 'dynasty', 'majorelle', 'garden', 'restored', 'fashion', 'designer', 'yves', 'saint', 'laurent', 'tranquil', 'oasis', 'cacti', 'palm', 'trees', 'cobalt', 'blue', 'accents', 'modern', 'marrakech', 'tradition', 'history', 'permeate', 'marrakech', 'city', 'averse', 'modern', 'world', 'gueliz', 'new', 'town', 'brimming', 'contemporary', 'art', 'galleries', 'stylish', 'cafes', 'chic', 'boutiques', 'offering', 'stark', 'contrast', 'ancient', 'medina', 'moroccan', 'cuisine', 'journey', 'morocco', 'marrakech', 'would', 'complete', 'without', 'indulging', 'local', 'cuisine', 'tagines', 'couscous', 'pastilla', 'many', 'dishes', 'combine', 'plethora', 'flavors', 'spices', 'like', 'saffron', 'cumin', 'mint', 'paired', 'moroccan', 'mint', 'tea', 'culinary', 'experience', 'truly', 'unparalleled', 'conclusion', 'morocco', 'marrakech', 'heart', 'offers', 'travelers', 'unparalleled', 'journey', 'time', 'convergence', 'history', 'culture', 'architecture', 'gastronomy', 'makes', 'enthralling', 'destination', 'seeking', 'adventure', 'reflection', 'moroccan', 'proverb', 'goes', 'travel', 'know', 'value', 'men', 'case', 'morocco', 'marrakech', 'value', 'men', 'also', 'value', 'time', 'tradition', 'tales', 'spanned', 'centuries']\n"
          ]
        }
      ]
    },
    {
      "cell_type": "code",
      "source": [
        "import spacy\n",
        "\n",
        "# Load the English language model\n",
        "nlp = spacy.load(\"en_core_web_sm\")\n",
        "\n",
        "# Define the lemmatization function\n",
        "def lemmatize_words(word_list):\n",
        "    lemmatized_words = []\n",
        "    for word in word_list:\n",
        "        doc = nlp(word)\n",
        "        lemmatized_words.append(doc[0].lemma_)\n",
        "    return lemmatized_words\n",
        "\n",
        "# Apply lemmatization to the list of words\n",
        "text_lemmatization= lemmatize_words(text_tokenize)\n",
        "print(text_lemmatization)"
      ],
      "metadata": {
        "colab": {
          "base_uri": "https://localhost:8080/"
        },
        "id": "mpkDFeH1Jcao",
        "outputId": "61fc49f4-41c5-4217-e83c-ab5bc8f8c3c4"
      },
      "execution_count": null,
      "outputs": [
        {
          "output_type": "stream",
          "name": "stdout",
          "text": [
            "['morocco', 'marrakech', 'tapestry', 'tradition', 'modernity', 'morocco', 'locate', 'crossroad', 'europe', 'africa', 'country', 'drench', 'history', 'mystery', 'cultural', 'richness', 'testament', 'ancient', 'civilization', 'flourish', 'north', 'african', 'kingdom', 'boast', 'unique', 'blend', 'arab', 'berber', 'european', 'influence', 'heart', 'morocco', 'rich', 'tapestry', 'lie', 'marrakech', 'one', 'four', 'imperial', 'city', 'vibrant', 'epicenter', 'tradition', 'modernity', 'geographical', 'significance', 'morocco', 'border', 'atlantic', 'ocean', 'west', 'mediterranean', 'sea', 'north', 'algeria', 'east', 'southeast', 'vast', 'sahara', 'desert', 'south', 'strategic', 'location', 'historically', 'make', 'soughtafter', 'territory', 'melt', 'pot', 'culture', 'religion', 'trade', 'route', 'marrakech', 'red', 'city', 'marrakech', 'often', 'refer', 'red', 'city', 'due', 'distinctive', 'redhue', 'building', 'stand', 'backdrop', 'snowcappe', 'atlas', 'mountain', 'establish', '11th', 'century', 'remain', 'crucial', 'political', 'economic', 'cultural', 'center', 'morocco', 'journey', 'medina', 'marrakechs', 'old', 'town', 'medina', 'unesco', 'world', 'heritage', 'site', 'labyrinthine', 'maze', 'narrow', 'alley', 'bustle', 'souks', 'historical', 'landmark', 'djemaa', 'elfna', 'square', 'lie', 'heart', 'medina', 'come', 'alive', 'every', 'evening', 'storyteller', 'musician', 'snake', 'charmer', 'food', 'stall', 'offer', 'tantalize', 'moroccan', 'delicacy', 'palace', 'garden', 'city', 'also', 'home', 'grand', 'palace', 'like', 'bahia', 'palace', 'showcase', 'intricate', 'islamic', 'architecture', 'saadian', 'tomb', 'remnant', 'saadian', 'dynasty', 'majorelle', 'garden', 'restore', 'fashion', 'designer', 'yve', 'saint', 'laurent', 'tranquil', 'oasis', 'cacti', 'palm', 'tree', 'cobalt', 'blue', 'accent', 'modern', 'marrakech', 'tradition', 'history', 'permeate', 'marrakech', 'city', 'averse', 'modern', 'world', 'gueliz', 'new', 'town', 'brim', 'contemporary', 'art', 'gallery', 'stylish', 'cafe', 'chic', 'boutique', 'offer', 'stark', 'contrast', 'ancient', 'medina', 'moroccan', 'cuisine', 'journey', 'morocco', 'marrakech', 'would', 'complete', 'without', 'indulge', 'local', 'cuisine', 'tagine', 'couscous', 'pastilla', 'many', 'dish', 'combine', 'plethora', 'flavor', 'spice', 'like', 'saffron', 'cumin', 'mint', 'pair', 'moroccan', 'mint', 'tea', 'culinary', 'experience', 'truly', 'unparalleled', 'conclusion', 'morocco', 'marrakech', 'heart', 'offer', 'traveler', 'unparalleled', 'journey', 'time', 'convergence', 'history', 'culture', 'architecture', 'gastronomy', 'make', 'enthral', 'destination', 'seek', 'adventure', 'reflection', 'moroccan', 'proverb', 'go', 'travel', 'know', 'value', 'man', 'case', 'morocco', 'marrakech', 'value', 'man', 'also', 'value', 'time', 'tradition', 'tale', 'span', 'century']\n"
          ]
        }
      ]
    },
    {
      "cell_type": "code",
      "source": [
        "import gensim\n",
        "from gensim.models import Word2Vec\n",
        "# train word2vec on the two sentences\n",
        "model = gensim.models.Word2Vec([text_lemmatization], min_count=0, sg=1, vector_size=10)  ##\n",
        "model.save(\"word2vec_model.model\")\n",
        "print(model)"
      ],
      "metadata": {
        "colab": {
          "base_uri": "https://localhost:8080/"
        },
        "id": "jZq9KdS-3m_5",
        "outputId": "d2417983-7772-4a2b-80d1-0bc9727b2639"
      },
      "execution_count": null,
      "outputs": [
        {
          "output_type": "stream",
          "name": "stdout",
          "text": [
            "Word2Vec<vocab=207, vector_size=10, alpha=0.025>\n"
          ]
        }
      ]
    },
    {
      "cell_type": "markdown",
      "source": [
        "####Extraire la représentation vectorielle d'un mot :"
      ],
      "metadata": {
        "id": "6-si1I7yDJMm"
      }
    },
    {
      "cell_type": "code",
      "source": [
        "vector = model.wv['tradition']\n",
        "print(vector)"
      ],
      "metadata": {
        "colab": {
          "base_uri": "https://localhost:8080/"
        },
        "id": "2b4VEv2K_ymU",
        "outputId": "eaed6524-7e1d-4b42-b642-251576997369"
      },
      "execution_count": null,
      "outputs": [
        {
          "output_type": "stream",
          "name": "stdout",
          "text": [
            "[-0.07252657 -0.01184127  0.10107481 -0.06900626 -0.02084787 -0.01792692\n",
            "  0.08641762 -0.05525921 -0.00166236 -0.05434107]\n"
          ]
        }
      ]
    },
    {
      "cell_type": "markdown",
      "source": [
        "####Calculer la similarité entre deux mots :"
      ],
      "metadata": {
        "id": "iieqcSLwDF9A"
      }
    },
    {
      "cell_type": "code",
      "source": [
        "similarity_score = model.wv.similarity('cultural', 'morocco')\n",
        "print(similarity_score)"
      ],
      "metadata": {
        "colab": {
          "base_uri": "https://localhost:8080/"
        },
        "id": "-0AFPpEiDHqy",
        "outputId": "7dabf636-30e1-4e0c-e0ee-1f83f72490a5"
      },
      "execution_count": null,
      "outputs": [
        {
          "output_type": "stream",
          "name": "stdout",
          "text": [
            "-0.00416686\n"
          ]
        }
      ]
    },
    {
      "cell_type": "markdown",
      "source": [
        "####Extraire les mots contextuels (les plus similaires) pour un mot central donné :"
      ],
      "metadata": {
        "id": "EdXgf8WuPEgY"
      }
    },
    {
      "cell_type": "markdown",
      "source": [],
      "metadata": {
        "id": "a7TuEQuzWsis"
      }
    },
    {
      "cell_type": "code",
      "source": [
        "# Extraire les mots similaires à un mot central donné\n",
        "similar_words = model.wv.most_similar('old', topn=20)\n",
        "\n",
        "# 'similar_words' contient une liste de mots similaires\n",
        "print(similar_words)\n"
      ],
      "metadata": {
        "colab": {
          "base_uri": "https://localhost:8080/"
        },
        "id": "xKVMzMN2PGB7",
        "outputId": "58f2072b-a54d-4b90-a7a6-b6f1a4d4afc3"
      },
      "execution_count": null,
      "outputs": [
        {
          "output_type": "stream",
          "name": "stdout",
          "text": [
            "[('go', 0.8621671199798584), ('cuisine', 0.7566891312599182), ('route', 0.6462952494621277), ('garden', 0.638844907283783), ('mint', 0.6059117913246155), ('saint', 0.5965531468391418), ('marrakechs', 0.5568073987960815), ('century', 0.5500300526618958), ('local', 0.536540687084198), ('11th', 0.523951530456543), ('laurent', 0.5201781988143921), ('gueliz', 0.5129246115684509), ('remnant', 0.5124399065971375), ('islamic', 0.5087454915046692), ('west', 0.5065172910690308), ('enthral', 0.4963327944278717), ('showcase', 0.49449384212493896), ('palace', 0.47962844371795654), ('delicacy', 0.477985143661499), ('grand', 0.47525086998939514)]\n"
          ]
        }
      ]
    }
  ]
}